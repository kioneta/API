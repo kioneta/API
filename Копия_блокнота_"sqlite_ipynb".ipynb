{
  "nbformat": 4,
  "nbformat_minor": 0,
  "metadata": {
    "colab": {
      "provenance": [],
      "authorship_tag": "ABX9TyPpEY/13fXVZInTvPATiU4D",
      "include_colab_link": true
    },
    "kernelspec": {
      "name": "python3",
      "display_name": "Python 3"
    },
    "language_info": {
      "name": "python"
    }
  },
  "cells": [
    {
      "cell_type": "markdown",
      "metadata": {
        "id": "view-in-github",
        "colab_type": "text"
      },
      "source": [
        "<a href=\"https://colab.research.google.com/github/kioneta/API/blob/main/%D0%9A%D0%BE%D0%BF%D0%B8%D1%8F_%D0%B1%D0%BB%D0%BE%D0%BA%D0%BD%D0%BE%D1%82%D0%B0_%22sqlite_ipynb%22.ipynb\" target=\"_parent\"><img src=\"https://colab.research.google.com/assets/colab-badge.svg\" alt=\"Open In Colab\"/></a>"
      ]
    },
    {
      "cell_type": "markdown",
      "source": [
        "# Создание Базы данных"
      ],
      "metadata": {
        "id": "rUBnvcbfPvvq"
      }
    },
    {
      "cell_type": "code",
      "execution_count": null,
      "metadata": {
        "id": "EIFbFrqCfCEp"
      },
      "outputs": [],
      "source": [
        "import sqlite3\n",
        "import csv\n",
        "import os"
      ]
    },
    {
      "cell_type": "code",
      "source": [
        "db = sqlite3.connect('t_orders.db') # создаю базу данных с нужным разрешением"
      ],
      "metadata": {
        "id": "YmxJ2uDHfLuY"
      },
      "execution_count": null,
      "outputs": []
    },
    {
      "cell_type": "code",
      "source": [
        "c = db.cursor() # создаем курсор"
      ],
      "metadata": {
        "id": "-PKVF4AxfMt4"
      },
      "execution_count": null,
      "outputs": []
    },
    {
      "cell_type": "code",
      "source": [
        "#создаем таблицу с соответствующими полями\n",
        "c.execute(\"\"\"CREATE TABLE t_orders (\n",
        "                                    organization_id integer,\n",
        "                                    sales_order integer,\n",
        "                                    date_create datetime,\n",
        "                                    status integer,\n",
        "                                    code integer,\n",
        "                                    client_id integer,\n",
        "                                    tvz_id integer,\n",
        "                                    cost_price float,\n",
        "                                    price_b2b_gross float,\n",
        "                                    price_b2c_gross float,\n",
        "                                    quantity integer\n",
        "                                    )\n",
        "\n",
        "\n",
        "          \"\"\")"
      ],
      "metadata": {
        "colab": {
          "base_uri": "https://localhost:8080/"
        },
        "id": "h4yQ5u-Df00n",
        "outputId": "fd792c7b-d9c6-4f58-99fb-f529a68ff599"
      },
      "execution_count": null,
      "outputs": [
        {
          "output_type": "execute_result",
          "data": {
            "text/plain": [
              "<sqlite3.Cursor at 0x7feffa29e8c0>"
            ]
          },
          "metadata": {},
          "execution_count": 4
        }
      ]
    },
    {
      "cell_type": "code",
      "source": [
        "db.commit()"
      ],
      "metadata": {
        "id": "qwpE8VZmf03g"
      },
      "execution_count": null,
      "outputs": []
    },
    {
      "cell_type": "code",
      "source": [
        "#вставляем данный из подготовленного csv файла\n",
        "with open('t_orders.csv', 'r') as f_open_csv:\n",
        "      rows = csv.reader(f_open_csv, delimiter=\",\")\n",
        "\n",
        "      for row in rows:\n",
        "          c.execute('INSERT INTO t_orders VALUES (?, ?, ?, ?, ?,?, ?, ?, ?, ?, ?)', row)"
      ],
      "metadata": {
        "id": "9DFIGR6Hf1A8"
      },
      "execution_count": null,
      "outputs": []
    },
    {
      "cell_type": "code",
      "source": [
        "#добавляю столбец id. Возможно понадобиться позже например для джойнов и т.д.\n",
        "c.execute(\"\"\"ALTER TABLE t_orders ADD COLUMN id INTEGER\"\"\")\n",
        "c.execute(\"\"\"UPDATE t_orders SET id = rowid\"\"\")"
      ],
      "metadata": {
        "colab": {
          "base_uri": "https://localhost:8080/"
        },
        "id": "apP-vvlKZnUl",
        "outputId": "08e0f92e-941b-42bc-c014-6e27d48737c9"
      },
      "execution_count": null,
      "outputs": [
        {
          "output_type": "execute_result",
          "data": {
            "text/plain": [
              "<sqlite3.Cursor at 0x7feffa29e8c0>"
            ]
          },
          "metadata": {},
          "execution_count": 7
        }
      ]
    },
    {
      "cell_type": "code",
      "source": [
        "#Смотрю первые 20 записей\n",
        "c.execute('SELECT * FROM t_orders')\n",
        "print(c.fetchmany(20))"
      ],
      "metadata": {
        "colab": {
          "base_uri": "https://localhost:8080/"
        },
        "id": "bc6ipdXQv336",
        "outputId": "00cd7f28-ef2a-4571-ade6-77d6aa75e635"
      },
      "execution_count": null,
      "outputs": [
        {
          "output_type": "stream",
          "name": "stdout",
          "text": [
            "[(13, 2051016936, '2022-06-01T07:01:02.473', 0, 48747, 13183, 7233, 347.11, 469.18, 504.36, 1, 1), (2, 2051016937, '2022-06-01T07:12:02.541', 0, 44320, 7519, 2592, 108.55, 155.39, 167.04, 2, 2), (13, 2051016938, '2022-06-01T07:43:02.496', 0, 54462, 1558, 7149, 401.17, 447.12, 480.65, 2, 3), (1, 2051016939, '2022-06-01T07:53:02.430', 0, 58963, 30244, 1232, 413.28, 496.25, 533.46, 2, 4), (1, 2051016940, '2022-06-01T07:53:02.744', 0, 304, 5112, 372, 168.15, 198.42, 228.47, 2, 5), (1, 2051016941, '2022-06-01T08:14:02.351', 0, 40693, 63084, 1280, 196.73, 230.5, 247.87, 2, 6), (5, 2051016942, '2022-06-01T08:14:02.830', 0, 66585, 19055, 3298, 352.62, 444.17, 475.27, 3, 7), (5, 2051016942, '2022-06-01T08:14:02.830', 0, 65446, 19055, 3298, 515.66, 598.44, 655.24, 1, 8), (1, 2051016943, '2022-06-01T08:14:03.232', 1, 9372, 55499, 1010, 22.17, 24.38, 32.33, 2, 9), (1, 2051016943, '2022-06-01T08:14:03.232', 1, 4355, 55499, 1010, 40.33, 52.38, 56.04, 3, 10), (1, 2051016944, '2022-06-01T08:47:02.829', 0, 22483, 47079, 502, 298.37, 334.39, 357.8, 2, 11), (5, 2051016945, '2022-06-01T08:58:02.816', 0, 21753, 20186, 3685, 203.35, 277.69, 298.52, 1, 12), (1, 2051016946, '2022-06-01T08:58:03.130', 0, 6980, 11497, 578, 1162.82, 1471.69, 1582.06, 2, 13), (1, 2051016947, '2022-06-01T08:58:03.459', 0, 65292, 6473, 564, 58.96, 74.85, 86.22, 3, 14), (5, 2051016948, '2022-06-01T09:09:02.467', 0, 46276, 20291, 3439, 558.84, 626.82, 674.64, 1, 15), (5, 2051016948, '2022-06-01T09:09:02.467', 0, 55842, 20291, 3439, 356.66, 413.04, 444.01, 2, 16), (1, 2051016949, '2022-06-01T09:19:02.487', 0, 48192, 10002, 1413, 808.52, 877.19, 942.99, 5, 17), (1, 2051016950, '2022-06-01T09:30:02.641', 0, 3851, 22467, 151, 175.64, 199.5, 214.46, 1, 18), (1, 2051016950, '2022-06-01T09:30:02.641', 0, 56027, 22467, 151, 226.32, 258.85, 276.97, 1, 19), (1, 2051016950, '2022-06-01T09:30:02.641', 0, 19849, 22467, 151, 14.97, 18.94, 22.63, 1, 20)]\n"
          ]
        }
      ]
    },
    {
      "cell_type": "code",
      "source": [
        "#проверяю все ли данные были выгружены\n",
        "c.execute('SELECT COUNT(*) FROM t_orders')\n",
        "print(c.fetchmany(20))"
      ],
      "metadata": {
        "colab": {
          "base_uri": "https://localhost:8080/"
        },
        "id": "sj84nWGD0wpv",
        "outputId": "4c9fd899-d504-4b37-c09c-a036f7f72b66"
      },
      "execution_count": null,
      "outputs": [
        {
          "output_type": "stream",
          "name": "stdout",
          "text": [
            "[(27704,)]\n"
          ]
        }
      ]
    },
    {
      "cell_type": "markdown",
      "source": [
        "#Задание 1\n",
        "Рассчитать маржу в рублях и % по всей компании в разрезе месяцев \\\n",
        "Вывести: Месяц, Маржа руб., Маржа % \\\n",
        "Предоставить запрос в SQL."
      ],
      "metadata": {
        "id": "3mxK50Uu3CsM"
      }
    },
    {
      "cell_type": "code",
      "source": [
        "#вывожу месяц, суммирую маржу и округляю до 2х знаков после запятой, нахожу ср значение маржи в %\n",
        "#фильтрую по статусу, только выданные заказы. Группирую по месяцу, сортирую по месяцу\n",
        "\n",
        "c.execute(\"\"\"SELECT strftime('%m', date_create) as month,\n",
        "                    round(SUM(price_b2c_gross - cost_price), 2) as margin_rub,\n",
        "                    AVG((price_b2c_gross - cost_price)/price_b2c_gross)*100 as margin_percentage\n",
        "          FROM t_orders\n",
        "          WHERE status = 0\n",
        "          GROUP BY month\n",
        "          ORDER BY month\n",
        "\n",
        "          \"\"\")\n",
        "list = c.fetchall()\n",
        "list"
      ],
      "metadata": {
        "colab": {
          "base_uri": "https://localhost:8080/"
        },
        "id": "WMhsWGrP2rZx",
        "outputId": "1cb2f1e5-916d-47c8-a943-f69e5e4b4af9"
      },
      "execution_count": null,
      "outputs": [
        {
          "output_type": "execute_result",
          "data": {
            "text/plain": [
              "[('06', 1390342.75, 27.83157082692698),\n",
              " ('07', 1233548.47, 27.529687508331325),\n",
              " ('08', 1581203.69, 27.79825291459876)]"
            ]
          },
          "metadata": {},
          "execution_count": 151
        }
      ]
    },
    {
      "cell_type": "code",
      "source": [
        "#вывожу результаты в более читабельном виде\n",
        "print(\"month\", \"margin_rub\", \"margin_percentage\")\n",
        "for i in list:\n",
        "  print(i)"
      ],
      "metadata": {
        "colab": {
          "base_uri": "https://localhost:8080/"
        },
        "id": "BxNPfIoD2rcX",
        "outputId": "f78aa0a3-2033-4d51-9afc-50a3268261cb"
      },
      "execution_count": null,
      "outputs": [
        {
          "output_type": "stream",
          "name": "stdout",
          "text": [
            "month margin_rub margin_percentage\n",
            "('06', 1390342.75, 27.83157082692698)\n",
            "('07', 1233548.47, 27.529687508331325)\n",
            "('08', 1581203.69, 27.79825291459876)\n"
          ]
        }
      ]
    },
    {
      "cell_type": "markdown",
      "source": [
        "#Задание 2\n",
        "Выбрать топ 5 самых прибыльных позиций в разрезе каждого РК, за весь период. \\\n",
        "Предоставить запрос в SQL."
      ],
      "metadata": {
        "id": "C2Y4bUf7FCB5"
      }
    },
    {
      "cell_type": "code",
      "source": [
        "#Предположу, что РК это регион.\n",
        "#Вначе делаю подзапрос, чтобы пронумировать позиции в рамках региона начиная от самых прибыльных до менее прибыльных.\n",
        "#Вывожу поля:регион, позицию по прибыльности, код товара и маржу.\n",
        "#Только топ 5.\n",
        "c.execute(\"\"\"SELECT organization_id, row_num, code, ROUND(margin,2)\n",
        "          FROM (\n",
        "            SELECT (price_b2c_gross - cost_price) as margin, code, organization_id,\n",
        "                    ROW_NUMBER() OVER (PARTITION BY organization_id ORDER BY (price_b2c_gross - cost_price) DESC) AS row_num\n",
        "            FROM t_orders\n",
        "            WHERE status = 0\n",
        "          ) AS subquery\n",
        "          WHERE row_num <= 5\n",
        "\n",
        "\n",
        "          \"\"\")\n",
        "list2 = c.fetchall()\n",
        "list2\n"
      ],
      "metadata": {
        "colab": {
          "base_uri": "https://localhost:8080/"
        },
        "id": "XaqbVyKHFBOM",
        "outputId": "bcc902e6-1b75-4fc0-ecb9-70143ce0ac92"
      },
      "execution_count": null,
      "outputs": [
        {
          "output_type": "execute_result",
          "data": {
            "text/plain": [
              "[(1, 1, 1842, 5454.39),\n",
              " (1, 2, 57758, 5172.17),\n",
              " (1, 3, 52092, 3558.57),\n",
              " (1, 4, 57759, 3338.2),\n",
              " (1, 5, 60272, 3315.0),\n",
              " (2, 1, 64255, 4352.61),\n",
              " (2, 2, 42746, 3192.75),\n",
              " (2, 3, 1840, 2460.39),\n",
              " (2, 4, 1840, 2460.39),\n",
              " (2, 5, 1840, 2305.2),\n",
              " (4, 1, 66020, 693.51),\n",
              " (4, 2, 45041, 337.31),\n",
              " (4, 3, 20287, 315.36),\n",
              " (4, 4, 59982, 314.31),\n",
              " (4, 5, 55801, 302.19),\n",
              " (5, 1, 57759, 5586.28),\n",
              " (5, 2, 64255, 4459.3),\n",
              " (5, 3, 26762, 3866.06),\n",
              " (5, 4, 57759, 3207.8),\n",
              " (5, 5, 57759, 3207.8),\n",
              " (6, 1, 64957, 2209.28),\n",
              " (6, 2, 17692, 2029.99),\n",
              " (6, 3, 65891, 1138.82),\n",
              " (6, 4, 53888, 661.39),\n",
              " (6, 5, 51449, 526.3),\n",
              " (7, 1, 53792, 3401.75),\n",
              " (7, 2, 42040, 2233.15),\n",
              " (7, 3, 49536, 1805.75),\n",
              " (7, 4, 58938, 1607.93),\n",
              " (7, 5, 43654, 1559.16),\n",
              " (8, 1, 1842, 7066.63),\n",
              " (8, 2, 64255, 4436.67),\n",
              " (8, 3, 57758, 3553.47),\n",
              " (8, 4, 1840, 1994.82),\n",
              " (8, 5, 11268, 1416.26),\n",
              " (9, 1, 53792, 3194.83),\n",
              " (9, 2, 57596, 1667.02),\n",
              " (9, 3, 43654, 1318.84),\n",
              " (9, 4, 65887, 1017.93),\n",
              " (9, 5, 46520, 1012.98),\n",
              " (10, 1, 61398, 609.24),\n",
              " (10, 2, 56123, 510.02),\n",
              " (10, 3, 64138, 204.12),\n",
              " (10, 4, 53417, 173.9),\n",
              " (10, 5, 49592, 147.52),\n",
              " (11, 1, 57596, 1672.41),\n",
              " (11, 2, 57756, 1102.4),\n",
              " (11, 3, 55217, 686.39),\n",
              " (11, 4, 46563, 632.77),\n",
              " (11, 5, 41898, 556.31),\n",
              " (12, 1, 59071, 187.4),\n",
              " (12, 2, 66058, 164.34),\n",
              " (12, 3, 56745, 157.36),\n",
              " (12, 4, 58796, 131.83),\n",
              " (12, 5, 22289, 76.52),\n",
              " (13, 1, 60272, 3990.71),\n",
              " (13, 2, 26762, 3866.06),\n",
              " (13, 3, 53792, 2838.12),\n",
              " (13, 4, 60272, 2655.44),\n",
              " (13, 5, 41710, 2249.16),\n",
              " (14, 1, 51987, 1767.96),\n",
              " (14, 2, 53620, 1242.54),\n",
              " (14, 3, 47880, 1219.37),\n",
              " (14, 4, 54811, 1204.87),\n",
              " (14, 5, 58422, 1073.37),\n",
              " (15, 1, 57596, 1629.3),\n",
              " (15, 2, 59639, 1606.68),\n",
              " (15, 3, 64555, 1352.41),\n",
              " (15, 4, 51987, 1349.81),\n",
              " (15, 5, 51987, 1349.81)]"
            ]
          },
          "metadata": {},
          "execution_count": 182
        }
      ]
    },
    {
      "cell_type": "markdown",
      "source": [
        "#Задание 3\n",
        "В какой день недели клиенты чаще делают покупки. Проанализировать август. \\\n",
        "Вывести: День недели, Среднее количество заказов в этот день \\\n",
        "Предоставить запрос в SQL + ответ.\n",
        "#Ответ - вт\n"
      ],
      "metadata": {
        "id": "NoKg1o7DPbsF"
      }
    },
    {
      "cell_type": "code",
      "source": [
        "#Заметка по дням неделям: 0 -вс, 1 - пн  и т.д.\n",
        "# Вначале создаю подзапрос, где мы считаем в рамках одного дня количество заказов.\n",
        "# Потом агрегирую количество заказов по дню недели, и сортирую по убыванию.\n",
        "# Вывожу первое значение\n",
        "c.execute(\"\"\"SELECT strftime('%w', date) as day_of_week, AVG(sales_order_N) as AVG_orders_N\n",
        "\n",
        "            FROM (SELECT \tstrftime('%Y-%m-%d',date_create) as date, COUNT(sales_order) as sales_order_N\n",
        "                  FROM t_orders\n",
        "                  WHERE strftime('%m', date_create) = '06'\n",
        "                  GROUP BY strftime('%Y-%m-%d',date_create)\n",
        "                  )\n",
        "\n",
        "            GROUP BY day_of_week\n",
        "            ORDER BY AVG_orders_N DESC\n",
        "            LIMIT 1\n",
        "          \"\"\")\n",
        "list3 = c.fetchall()\n",
        "list3"
      ],
      "metadata": {
        "colab": {
          "base_uri": "https://localhost:8080/"
        },
        "id": "KsQw2Ym3PcV8",
        "outputId": "35960da6-f780-45ab-d530-cc8fbd4530ea"
      },
      "execution_count": null,
      "outputs": [
        {
          "output_type": "execute_result",
          "data": {
            "text/plain": [
              "[('2', 411.75)]"
            ]
          },
          "metadata": {},
          "execution_count": 213
        }
      ]
    },
    {
      "cell_type": "markdown",
      "source": [
        "#Задание 4\n",
        "Построить динамику доли выкупа заказов по их суммам в разрезе недель за июль. \\\n",
        "Предоставить запрос в SQL + нарисовать диаграмму в Redash или Excel."
      ],
      "metadata": {
        "id": "xqCHi1s2Zlfz"
      }
    },
    {
      "cell_type": "code",
      "source": [
        "#Суммирую заказы, которые были выкуплены (Статус = '0') и делю эту сумму на общую сумму всех заказов в каждой неделе, чтобы рассчитать долю выкупленных заказов\n",
        "#Затем результаты группирую по номеру недели и вывожу динамику доли выкупа заказов по их суммам в разрезе недель за июль.\n",
        "\n",
        "c.execute(\"\"\"SELECT strftime('%W', date_create) as week,\n",
        "                    SUM(CASE WHEN status = 0 THEN price_b2c_gross ELSE 0 END) / SUM(price_b2c_gross) AS doly\n",
        "          FROM t_orders\n",
        "          WHERE strftime('%m', date_create) = '07'\n",
        "          GROUP BY week\n",
        "\n",
        "          \"\"\")\n",
        "list4 = c.fetchall()\n",
        "list4"
      ],
      "metadata": {
        "colab": {
          "base_uri": "https://localhost:8080/"
        },
        "id": "QSnTigoQPcbJ",
        "outputId": "f9ff7b31-8ac6-4b22-f4ba-6b98ec6df3f8"
      },
      "execution_count": null,
      "outputs": [
        {
          "output_type": "execute_result",
          "data": {
            "text/plain": [
              "[('26', 0.8632211722462044),\n",
              " ('27', 0.8963230347835637),\n",
              " ('28', 0.8747953289879444),\n",
              " ('29', 0.7871001920016769),\n",
              " ('30', 0.8680276495325684)]"
            ]
          },
          "metadata": {},
          "execution_count": 215
        }
      ]
    },
    {
      "cell_type": "code",
      "source": [
        "import matplotlib.pyplot as plt"
      ],
      "metadata": {
        "id": "KpLmvFg9bfjl"
      },
      "execution_count": null,
      "outputs": []
    },
    {
      "cell_type": "code",
      "source": [
        "# Отделяю столбец с неделями и столбец с долями\n",
        "x = []\n",
        "y = []\n",
        "for i in range(len(list4)):\n",
        "  x.append(list4[i][0])\n",
        "  y.append(list4[i][1])"
      ],
      "metadata": {
        "colab": {
          "base_uri": "https://localhost:8080/"
        },
        "id": "f79CpbLucP9e",
        "outputId": "6caa9009-322c-4d12-a71e-61ab14e638e2"
      },
      "execution_count": null,
      "outputs": [
        {
          "output_type": "execute_result",
          "data": {
            "text/plain": [
              "[0.8632211722462044,\n",
              " 0.8963230347835637,\n",
              " 0.8747953289879444,\n",
              " 0.7871001920016769,\n",
              " 0.8680276495325684]"
            ]
          },
          "metadata": {},
          "execution_count": 237
        }
      ]
    },
    {
      "cell_type": "code",
      "source": [
        "#строю график\n",
        "plt.plot(x, y, marker='o', markersize=7)\n",
        "plt.xlabel(\"week_number\")\n",
        "plt.ylabel(\"rate\")"
      ],
      "metadata": {
        "colab": {
          "base_uri": "https://localhost:8080/",
          "height": 467
        },
        "id": "H-UAVMzHboCY",
        "outputId": "f613e13f-4464-498c-c72e-1b5fbd9f13d4"
      },
      "execution_count": null,
      "outputs": [
        {
          "output_type": "execute_result",
          "data": {
            "text/plain": [
              "Text(0, 0.5, 'rate')"
            ]
          },
          "metadata": {},
          "execution_count": 239
        },
        {
          "output_type": "display_data",
          "data": {
            "text/plain": [
              "<Figure size 640x480 with 1 Axes>"
            ],
            "image/png": "[encoded data removed]"
          },
          "metadata": {}
        }
      ]
    },
    {
      "cell_type": "code",
      "source": [
        "#строю график2\n",
        "plt.bar(x, y, alpha=0.5)\n",
        "plt.plot(x, y, color='green', marker='o', markersize=7)\n",
        "plt.xlabel(\"week_number\")\n",
        "plt.ylabel(\"rate\")"
      ],
      "metadata": {
        "colab": {
          "base_uri": "https://localhost:8080/",
          "height": 467
        },
        "id": "KXmCTYvRhLg0",
        "outputId": "9f4828dd-363d-497b-cdb8-d6453f77f554"
      },
      "execution_count": null,
      "outputs": [
        {
          "output_type": "execute_result",
          "data": {
            "text/plain": [
              "Text(0, 0.5, 'rate')"
            ]
          },
          "metadata": {},
          "execution_count": 244
        },
        {
          "output_type": "display_data",
          "data": {
            "text/plain": [
              "<Figure size 640x480 with 1 Axes>"
            ],
            "image/png": "[encoded data removed]"
          },
          "metadata": {}
        }
      ]
    },
    {
      "cell_type": "markdown",
      "source": [
        "#Задание 5\n",
        "Рассчитать за весь период товары, которые часто продаются друг с другом.\\\n",
        "Вывести: Первый товар, Сопутствующий товар, Количество чеков с данными товарами\\\n",
        "Предоставить запрос в SQL.\n"
      ],
      "metadata": {
        "id": "R7q-l-CVimew"
      }
    },
    {
      "cell_type": "code",
      "source": [
        "#  Джойним таблицу саму на себя, чтобы добавить столбец товаров и перебрать все возможные комбинации сочетания товаров в рамках заказа.\n",
        "#  t_orders_1.id < t_orders_2.id - исплючает дублирование пар\n",
        "#  Выбираем только выданные заказы\n",
        "#  Выводим только если пар было больше 4\n",
        "\n",
        "c.execute(\"\"\"SELECT t_orders_1.code as first_code,\n",
        "                    t_orders_2.code as second_code,\n",
        "                    COUNT(DISTINCT t_orders_1.sales_order) AS Check_count\n",
        "          FROM t_orders t_orders_1\n",
        "          JOIN t_orders t_orders_2 ON t_orders_1.sales_order = t_orders_2.sales_order\n",
        "                                   AND t_orders_1.code < t_orders_2.code\n",
        "          WHERE t_orders_1.status = 0\n",
        "          GROUP BY t_orders_1.code, t_orders_2.code\n",
        "          HAVING Check_count > 4\n",
        "          ORDER BY Check_count DESC\n",
        "          \"\"\")\n",
        "list5 = c.fetchall()\n",
        "list5"
      ],
      "metadata": {
        "id": "nfese9u-UB0N",
        "colab": {
          "base_uri": "https://localhost:8080/"
        },
        "outputId": "fb884787-3d16-4b0c-9ef7-99d8875a37da"
      },
      "execution_count": null,
      "outputs": [
        {
          "output_type": "execute_result",
          "data": {
            "text/plain": [
              "[(20362, 20363, 15),\n",
              " (20362, 20365, 13),\n",
              " (20363, 20365, 13),\n",
              " (20362, 20370, 12),\n",
              " (20362, 20364, 10),\n",
              " (20363, 20370, 10),\n",
              " (20368, 20370, 10),\n",
              " (18594, 20370, 9),\n",
              " (20362, 20389, 9),\n",
              " (20363, 20364, 8),\n",
              " (20364, 20365, 8),\n",
              " (20365, 20370, 8),\n",
              " (18594, 20362, 7),\n",
              " (18594, 20365, 7),\n",
              " (18594, 20368, 7),\n",
              " (20362, 20368, 7),\n",
              " (20362, 20380, 7),\n",
              " (20363, 20368, 7),\n",
              " (20364, 20370, 6),\n",
              " (20364, 20389, 6),\n",
              " (20370, 20389, 6),\n",
              " (38350, 38351, 6),\n",
              " (40697, 40698, 6),\n",
              " (67045, 67053, 6),\n",
              " (67045, 67068, 6),\n",
              " (10927, 61925, 5),\n",
              " (18594, 20363, 5),\n",
              " (18594, 20364, 5),\n",
              " (20363, 20389, 5),\n",
              " (20365, 20368, 5),\n",
              " (20365, 20389, 5),\n",
              " (22901, 38351, 5),\n",
              " (38351, 40012, 5)]"
            ]
          },
          "metadata": {},
          "execution_count": 10
        }
      ]
    },
    {
      "cell_type": "code",
      "source": [
        "#попытка решить другим путем\n",
        "\n",
        "c.execute(\"\"\"WITH Combinations AS (\n",
        "                                    SELECT t_orders_1.code as first_code, t_orders_2.code as second_code, t_orders_1.sales_order\n",
        "                                    FROM t_orders t_orders_1\n",
        "                                    JOIN t_orders t_orders_2 ON t_orders_1.sales_order = t_orders_2.sales_order\n",
        "                                                              AND t_orders_1.code < t_orders_2.code\n",
        "                                     WHERE t_orders_1.status = 0\n",
        "                                  )\n",
        "              SELECT first_code, second_code, COUNT(DISTINCT sales_order) AS Check_count\n",
        "              FROM Combinations\n",
        "              GROUP BY first_code, second_code\n",
        "              HAVING Check_count > 4\n",
        "              ORDER BY Check_count DESC\n",
        "          \"\"\")\n",
        "list5 = c.fetchall()\n",
        "list5"
      ],
      "metadata": {
        "id": "nGfGQ_ehUB88",
        "colab": {
          "base_uri": "https://localhost:8080/"
        },
        "outputId": "12b8fedf-7f24-4464-ae34-477f959b2df2"
      },
      "execution_count": null,
      "outputs": [
        {
          "output_type": "execute_result",
          "data": {
            "text/plain": [
              "[(20362, 20363, 15),\n",
              " (20362, 20365, 13),\n",
              " (20363, 20365, 13),\n",
              " (20362, 20370, 12),\n",
              " (20362, 20364, 10),\n",
              " (20363, 20370, 10),\n",
              " (20368, 20370, 10),\n",
              " (18594, 20370, 9),\n",
              " (20362, 20389, 9),\n",
              " (20363, 20364, 8),\n",
              " (20364, 20365, 8),\n",
              " (20365, 20370, 8),\n",
              " (18594, 20362, 7),\n",
              " (18594, 20365, 7),\n",
              " (18594, 20368, 7),\n",
              " (20362, 20368, 7),\n",
              " (20362, 20380, 7),\n",
              " (20363, 20368, 7),\n",
              " (20364, 20370, 6),\n",
              " (20364, 20389, 6),\n",
              " (20370, 20389, 6),\n",
              " (38350, 38351, 6),\n",
              " (40697, 40698, 6),\n",
              " (67045, 67053, 6),\n",
              " (67045, 67068, 6),\n",
              " (10927, 61925, 5),\n",
              " (18594, 20363, 5),\n",
              " (18594, 20364, 5),\n",
              " (20363, 20389, 5),\n",
              " (20365, 20368, 5),\n",
              " (20365, 20389, 5),\n",
              " (22901, 38351, 5),\n",
              " (38351, 40012, 5)]"
            ]
          },
          "metadata": {},
          "execution_count": 11
        }
      ]
    },
    {
      "cell_type": "markdown",
      "source": [
        "#Задание 6\n",
        "Сформировать отчет в редаше с параметрами: Период, Тип отрезка. \\\n",
        "Период - просто выбирает временной период без времени, Тип отрезка - группирует данные по дню, неделе, месяцу, году. \\\n",
        "Предоставить запрос в SQL. (ниже)"
      ],
      "metadata": {
        "id": "nTB3KDW5oMbt"
      }
    },
    {
      "cell_type": "code",
      "source": [
        "SELECT\n",
        "    COUNT(*), DATE_TRUNC('{{Тип отрезка}}', date_create)\n",
        "FROM\n",
        "    t_orders\n",
        "WHERE\n",
        "    date_create >= '{{ Период.start }}'\n",
        "    AND t_orders.date_create <= '{{ Период.end }}'\n",
        "GROUP BY\n",
        "    DATE_TRUNC('{{Тип отрезка}}', date_create)"
      ],
      "metadata": {
        "id": "LV_svZyu4JOm"
      },
      "execution_count": null,
      "outputs": []
    },
    {
      "cell_type": "markdown",
      "source": [
        "Пример реализации на чужом датасете в Симуляторе Карпова.![Screenshot_3.png](data:image/png;base64,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)"
      ],
      "metadata": {
        "id": "zl4WvYUN4a0t"
      }
    },
    {
      "cell_type": "markdown",
      "source": [
        "Изменение фильтра\n",
        "![image.png](data:image/png;base64,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)"
      ],
      "metadata": {
        "id": "BQ6kJS3X5LH7"
      }
    },
    {
      "cell_type": "markdown",
      "source": [
        "#Задание 7\n",
        "Нужно распарсить и пронумеровать значения  в прямоугольных скобках в текущем порядке. \\\n",
        "Вывести 2 колонки: Порядковый номер, Значение. \\\n",
        "Предоставить решение в SQL и решение на Python\\\n",
        "[[174.0,103.0,77.0,42.0,54.0,81.0,140.0,235.0,438.0,557.0,688.0,708.0,669.0,612.0,688.0,675.0,933.0,1015.0,998.0,834.0,861.0,658.0,617.0,414.0]]"
      ],
      "metadata": {
        "id": "K2u702aaoMvJ"
      }
    },
    {
      "cell_type": "markdown",
      "source": [
        "# Решение на python"
      ],
      "metadata": {
        "id": "6hd1upJfojDE"
      }
    },
    {
      "cell_type": "code",
      "source": [
        "a = '[174.0,103.0,77.0,42.0,54.0,81.0,140.0,235.0,438.0,557.0,688.0,708.0,669.0,612.0,688.0,675.0,933.0,1015.0,998.0,834.0,861.0,658.0,617.0,414.0]'"
      ],
      "metadata": {
        "id": "L5VzhqwcobWW"
      },
      "execution_count": null,
      "outputs": []
    },
    {
      "cell_type": "code",
      "source": [
        "a = a.strip('[]') # убираем лишнии скобки"
      ],
      "metadata": {
        "id": "_o-otqdHoicW"
      },
      "execution_count": null,
      "outputs": []
    },
    {
      "cell_type": "code",
      "source": [
        "a = a.split(',') # создаем список цифр разделенных элементом \",\""
      ],
      "metadata": {
        "id": "QHG8JYv4obmu"
      },
      "execution_count": null,
      "outputs": []
    },
    {
      "cell_type": "code",
      "source": [
        "import pandas as pd"
      ],
      "metadata": {
        "id": "NROKf3SiobpQ"
      },
      "execution_count": null,
      "outputs": []
    },
    {
      "cell_type": "code",
      "source": [
        "# самый просто способ сделать через пандосовский датафрейм\n",
        "df = pd.DataFrame(columns=['id', 'value'])"
      ],
      "metadata": {
        "id": "uFG_Z_pkobrs"
      },
      "execution_count": null,
      "outputs": []
    },
    {
      "cell_type": "code",
      "source": [
        "# присваиваю значение колонкам\n",
        "df['value'] = a\n",
        "df['id'] = df['value'].index + 1"
      ],
      "metadata": {
        "id": "XOv_lLH1q5fR"
      },
      "execution_count": null,
      "outputs": []
    },
    {
      "cell_type": "code",
      "source": [
        "# первые 5 строк\n",
        "df.head()"
      ],
      "metadata": {
        "colab": {
          "base_uri": "https://localhost:8080/",
          "height": 206
        },
        "id": "K6ESpRYnr0Zc",
        "outputId": "8786bea0-7905-48b6-e647-7d8e96320103"
      },
      "execution_count": null,
      "outputs": [
        {
          "output_type": "execute_result",
          "data": {
            "text/plain": [
              "   id  value\n",
              "0   1  174.0\n",
              "1   2  103.0\n",
              "2   3   77.0\n",
              "3   4   42.0\n",
              "4   5   54.0"
            ],
            "text/html": [
              "\n",
              "  <div id=\"df-21c86066-93ee-4471-a147-7a0999821092\">\n",
              "    <div class=\"colab-df-container\">\n",
              "      <div>\n",
              "<style scoped>\n",
              "    .dataframe tbody tr th:only-of-type {\n",
              "        vertical-align: middle;\n",
              "    }\n",
              "\n",
              "    .dataframe tbody tr th {\n",
              "        vertical-align: top;\n",
              "    }\n",
              "\n",
              "    .dataframe thead th {\n",
              "        text-align: right;\n",
              "    }\n",
              "</style>\n",
              "<table border=\"1\" class=\"dataframe\">\n",
              "  <thead>\n",
              "    <tr style=\"text-align: right;\">\n",
              "      <th></th>\n",
              "      <th>id</th>\n",
              "      <th>value</th>\n",
              "    </tr>\n",
              "  </thead>\n",
              "  <tbody>\n",
              "    <tr>\n",
              "      <th>0</th>\n",
              "      <td>1</td>\n",
              "      <td>174.0</td>\n",
              "    </tr>\n",
              "    <tr>\n",
              "      <th>1</th>\n",
              "      <td>2</td>\n",
              "      <td>103.0</td>\n",
              "    </tr>\n",
              "    <tr>\n",
              "      <th>2</th>\n",
              "      <td>3</td>\n",
              "      <td>77.0</td>\n",
              "    </tr>\n",
              "    <tr>\n",
              "      <th>3</th>\n",
              "      <td>4</td>\n",
              "      <td>42.0</td>\n",
              "    </tr>\n",
              "    <tr>\n",
              "      <th>4</th>\n",
              "      <td>5</td>\n",
              "      <td>54.0</td>\n",
              "    </tr>\n",
              "  </tbody>\n",
              "</table>\n",
              "</div>\n",
              "      <button class=\"colab-df-convert\" onclick=\"convertToInteractive('df-21c86066-93ee-4471-a147-7a0999821092')\"\n",
              "              title=\"Convert this dataframe to an interactive table.\"\n",
              "              style=\"display:none;\">\n",
              "        \n",
              "  <svg xmlns=\"http://www.w3.org/2000/svg\" height=\"24px\"viewBox=\"0 0 24 24\"\n",
              "       width=\"24px\">\n",
              "    <path d=\"M0 0h24v24H0V0z\" fill=\"none\"/>\n",
              "    <path d=\"M18.56 5.44l.94 2.06.94-2.06 2.06-.94-2.06-.94-.94-2.06-.94 2.06-2.06.94zm-11 1L8.5 8.5l.94-2.06 2.06-.94-2.06-.94L8.5 2.5l-.94 2.06-2.06.94zm10 10l.94 2.06.94-2.06 2.06-.94-2.06-.94-.94-2.06-.94 2.06-2.06.94z\"/><path d=\"M17.41 7.96l-1.37-1.37c-.4-.4-.92-.59-1.43-.59-.52 0-1.04.2-1.43.59L10.3 9.45l-7.72 7.72c-.78.78-.78 2.05 0 2.83L4 21.41c.39.39.9.59 1.41.59.51 0 1.02-.2 1.41-.59l7.78-7.78 2.81-2.81c.8-.78.8-2.07 0-2.86zM5.41 20L4 18.59l7.72-7.72 1.47 1.35L5.41 20z\"/>\n",
              "  </svg>\n",
              "      </button>\n",
              "      \n",
              "  <style>\n",
              "    .colab-df-container {\n",
              "      display:flex;\n",
              "      flex-wrap:wrap;\n",
              "      gap: 12px;\n",
              "    }\n",
              "\n",
              "    .colab-df-convert {\n",
              "      background-color: #E8F0FE;\n",
              "      border: none;\n",
              "      border-radius: 50%;\n",
              "      cursor: pointer;\n",
              "      display: none;\n",
              "      fill: #1967D2;\n",
              "      height: 32px;\n",
              "      padding: 0 0 0 0;\n",
              "      width: 32px;\n",
              "    }\n",
              "\n",
              "    .colab-df-convert:hover {\n",
              "      background-color: #E2EBFA;\n",
              "      box-shadow: 0px 1px 2px rgba(60, 64, 67, 0.3), 0px 1px 3px 1px rgba(60, 64, 67, 0.15);\n",
              "      fill: #174EA6;\n",
              "    }\n",
              "\n",
              "    [theme=dark] .colab-df-convert {\n",
              "      background-color: #3B4455;\n",
              "      fill: #D2E3FC;\n",
              "    }\n",
              "\n",
              "    [theme=dark] .colab-df-convert:hover {\n",
              "      background-color: #434B5C;\n",
              "      box-shadow: 0px 1px 3px 1px rgba(0, 0, 0, 0.15);\n",
              "      filter: drop-shadow(0px 1px 2px rgba(0, 0, 0, 0.3));\n",
              "      fill: #FFFFFF;\n",
              "    }\n",
              "  </style>\n",
              "\n",
              "      <script>\n",
              "        const buttonEl =\n",
              "          document.querySelector('#df-21c86066-93ee-4471-a147-7a0999821092 button.colab-df-convert');\n",
              "        buttonEl.style.display =\n",
              "          google.colab.kernel.accessAllowed ? 'block' : 'none';\n",
              "\n",
              "        async function convertToInteractive(key) {\n",
              "          const element = document.querySelector('#df-21c86066-93ee-4471-a147-7a0999821092');\n",
              "          const dataTable =\n",
              "            await google.colab.kernel.invokeFunction('convertToInteractive',\n",
              "                                                     [key], {});\n",
              "          if (!dataTable) return;\n",
              "\n",
              "          const docLinkHtml = 'Like what you see? Visit the ' +\n",
              "            '<a target=\"_blank\" href=https://colab.research.google.com/notebooks/data_table.ipynb>data table notebook</a>'\n",
              "            + ' to learn more about interactive tables.';\n",
              "          element.innerHTML = '';\n",
              "          dataTable['output_type'] = 'display_data';\n",
              "          await google.colab.output.renderOutput(dataTable, element);\n",
              "          const docLink = document.createElement('div');\n",
              "          docLink.innerHTML = docLinkHtml;\n",
              "          element.appendChild(docLink);\n",
              "        }\n",
              "      </script>\n",
              "    </div>\n",
              "  </div>\n",
              "  "
            ]
          },
          "metadata": {},
          "execution_count": 97
        }
      ]
    },
    {
      "cell_type": "markdown",
      "source": [
        "# Решение через SQL\n"
      ],
      "metadata": {
        "id": "S_CFvyjfsV7V"
      }
    },
    {
      "cell_type": "code",
      "source": [
        "import sqlite3"
      ],
      "metadata": {
        "id": "4ITImAXhseif"
      },
      "execution_count": null,
      "outputs": []
    },
    {
      "cell_type": "code",
      "source": [
        "db = sqlite3.connect('task_7.db') # создаю базу данных с нужным разрешением\n",
        "c = db.cursor() # создаем курсор"
      ],
      "metadata": {
        "id": "0y_6lyjxsfpa"
      },
      "execution_count": null,
      "outputs": []
    },
    {
      "cell_type": "code",
      "source": [
        "#создаем таблицу с соответствующими полями\n",
        "c.execute(\"\"\"CREATE TABLE task7 (\n",
        "                                'id' INT NOT NULL PRIMARY KEY AUTOINCREMENT,\n",
        "                                'value' INT\n",
        "                                )\n",
        "          \"\"\")"
      ],
      "metadata": {
        "colab": {
          "base_uri": "https://localhost:8080/"
        },
        "id": "czl67lZusfsK",
        "outputId": "ef3768e1-e47c-4540-95f9-f7509331f459"
      },
      "execution_count": null,
      "outputs": [
        {
          "output_type": "execute_result",
          "data": {
            "text/plain": [
              "<sqlite3.Cursor at 0x7f4d2d6c6ac0>"
            ]
          },
          "metadata": {},
          "execution_count": 112
        }
      ]
    },
    {
      "cell_type": "code",
      "source": [
        "# значения\n",
        "a = '[174.0,103.0,77.0,42.0,54.0,81.0,140.0,235.0,438.0,557.0,688.0,708.0,669.0,612.0,688.0,675.0,933.0,1015.0,998.0,834.0,861.0,658.0,617.0,414.0]'\n",
        "a = a.strip('[]') # убираем лишнии скобки\n",
        "a = a.split(',') # создаем список цифр разделенных элементом \",\""
      ],
      "metadata": {
        "id": "Xo3lU7RXxjy4"
      },
      "execution_count": null,
      "outputs": []
    },
    {
      "cell_type": "code",
      "source": [
        "# вставляю данные\n",
        "value = [(val,) for val in a]\n",
        "c.executemany('INSERT INTO task7 (value) VALUES (?)', value)"
      ],
      "metadata": {
        "colab": {
          "base_uri": "https://localhost:8080/"
        },
        "id": "Q9DVo7MXv_Hy",
        "outputId": "29d0fb25-412d-4e95-b727-391028c91bfa"
      },
      "execution_count": null,
      "outputs": [
        {
          "output_type": "execute_result",
          "data": {
            "text/plain": [
              "<sqlite3.Cursor at 0x7f4d2d6c6ac0>"
            ]
          },
          "metadata": {},
          "execution_count": 116
        }
      ]
    },
    {
      "cell_type": "code",
      "source": [
        "db.commit()"
      ],
      "metadata": {
        "id": "wLAQbhUawWnv"
      },
      "execution_count": null,
      "outputs": []
    },
    {
      "cell_type": "code",
      "source": [
        "#вывожу результат\n",
        "c.execute('SELECT * FROM task7')\n",
        "list = c.fetchall()\n",
        "for i in list:\n",
        "  print(i)"
      ],
      "metadata": {
        "colab": {
          "base_uri": "https://localhost:8080/"
        },
        "id": "uwBYt18Cwdev",
        "outputId": "56a90f57-356e-444d-b7fc-c21942a1657a"
      },
      "execution_count": null,
      "outputs": [
        {
          "output_type": "stream",
          "name": "stdout",
          "text": [
            "(1, 174)\n",
            "(2, 103)\n",
            "(3, 77)\n",
            "(4, 42)\n",
            "(5, 54)\n",
            "(6, 81)\n",
            "(7, 140)\n",
            "(8, 235)\n",
            "(9, 438)\n",
            "(10, 557)\n",
            "(11, 688)\n",
            "(12, 708)\n",
            "(13, 669)\n",
            "(14, 612)\n",
            "(15, 688)\n",
            "(16, 675)\n",
            "(17, 933)\n",
            "(18, 1015)\n",
            "(19, 998)\n",
            "(20, 834)\n",
            "(21, 861)\n",
            "(22, 658)\n",
            "(23, 617)\n",
            "(24, 414)\n"
          ]
        }
      ]
    },
    {
      "cell_type": "code",
      "source": [
        "db.close"
      ],
      "metadata": {
        "id": "-5fJHVx4fM5b"
      },
      "execution_count": null,
      "outputs": []
    }
  ]
}